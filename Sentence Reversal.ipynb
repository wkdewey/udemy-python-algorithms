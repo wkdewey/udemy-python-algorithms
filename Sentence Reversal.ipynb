{
 "cells": [
  {
   "cell_type": "markdown",
   "metadata": {},
   "source": [
    "# Sentence Reversal\n",
    "\n",
    "## Problem\n",
    "\n",
    "Given a string of words, reverse all the words. For example:\n",
    "\n",
    "Given:\n",
    "    \n",
    "    'This is the best'\n",
    "\n",
    "Return:\n",
    "\n",
    "    'best the is This'\n",
    "\n",
    "As part of this exercise you should remove all leading and trailing whitespace. So that inputs such as:\n",
    "\n",
    "    '  space here'  and 'space here      '\n",
    "\n",
    "both become:\n",
    "\n",
    "    'here space'\n",
    "\n",
    "## Solution\n",
    "\n",
    "Fill out your solution below:"
   ]
  },
  {
   "cell_type": "code",
   "execution_count": 34,
   "metadata": {},
   "outputs": [],
   "source": [
    "def rev_word(s):\n",
    "    words = s.split(' ')\n",
    "    print(words)\n",
    "    result = []\n",
    "    for i in range(len(words) - 1, -1, -1):\n",
    "        print(\"i is \" + str(i))\n",
    "        print(\"words[i] is \" + str(words[i]))\n",
    "        if words[i] == '':\n",
    "            continue\n",
    "        else:\n",
    "            result.append(words[i])\n",
    "    result = (' ').join(result)\n",
    "    return result"
   ]
  },
  {
   "cell_type": "code",
   "execution_count": 35,
   "metadata": {},
   "outputs": [
    {
     "name": "stdout",
     "output_type": "stream",
     "text": [
      "['Hi', 'John,', '', '', 'are', 'you', 'ready', 'to', 'go?']\n",
      "i is 8\n",
      "words[i] is go?\n",
      "i is 7\n",
      "words[i] is to\n",
      "i is 6\n",
      "words[i] is ready\n",
      "i is 5\n",
      "words[i] is you\n",
      "i is 4\n",
      "words[i] is are\n",
      "i is 3\n",
      "words[i] is \n",
      "i is 2\n",
      "words[i] is \n",
      "i is 1\n",
      "words[i] is John,\n",
      "i is 0\n",
      "words[i] is Hi\n"
     ]
    },
    {
     "data": {
      "text/plain": [
       "'go? to ready you are John, Hi'"
      ]
     },
     "execution_count": 35,
     "metadata": {},
     "output_type": "execute_result"
    }
   ],
   "source": [
    "rev_word('Hi John,   are you ready to go?')"
   ]
  },
  {
   "cell_type": "code",
   "execution_count": 36,
   "metadata": {},
   "outputs": [
    {
     "name": "stdout",
     "output_type": "stream",
     "text": [
      "['space', 'after', '', '', '', '', '']\n",
      "i is 6\n",
      "words[i] is \n",
      "i is 5\n",
      "words[i] is \n",
      "i is 4\n",
      "words[i] is \n",
      "i is 3\n",
      "words[i] is \n",
      "i is 2\n",
      "words[i] is \n",
      "i is 1\n",
      "words[i] is after\n",
      "i is 0\n",
      "words[i] is space\n"
     ]
    },
    {
     "data": {
      "text/plain": [
       "'after space'"
      ]
     },
     "execution_count": 36,
     "metadata": {},
     "output_type": "execute_result"
    }
   ],
   "source": [
    "rev_word('space after     ')"
   ]
  },
  {
   "cell_type": "markdown",
   "metadata": {},
   "source": [
    "_____"
   ]
  },
  {
   "cell_type": "markdown",
   "metadata": {},
   "source": [
    "# Test Your Solution"
   ]
  },
  {
   "cell_type": "code",
   "execution_count": 37,
   "metadata": {},
   "outputs": [
    {
     "name": "stdout",
     "output_type": "stream",
     "text": [
      "['', '', '', '', 'space', 'before']\n",
      "i is 5\n",
      "words[i] is before\n",
      "i is 4\n",
      "words[i] is space\n",
      "i is 3\n",
      "words[i] is \n",
      "i is 2\n",
      "words[i] is \n",
      "i is 1\n",
      "words[i] is \n",
      "i is 0\n",
      "words[i] is \n",
      "['space', 'after', '', '', '', '', '']\n",
      "i is 6\n",
      "words[i] is \n",
      "i is 5\n",
      "words[i] is \n",
      "i is 4\n",
      "words[i] is \n",
      "i is 3\n",
      "words[i] is \n",
      "i is 2\n",
      "words[i] is \n",
      "i is 1\n",
      "words[i] is after\n",
      "i is 0\n",
      "words[i] is space\n",
      "['', '', '', 'Hello', 'John', '', '', '', 'how', 'are', 'you', '', '', '']\n",
      "i is 13\n",
      "words[i] is \n",
      "i is 12\n",
      "words[i] is \n",
      "i is 11\n",
      "words[i] is \n",
      "i is 10\n",
      "words[i] is you\n",
      "i is 9\n",
      "words[i] is are\n",
      "i is 8\n",
      "words[i] is how\n",
      "i is 7\n",
      "words[i] is \n",
      "i is 6\n",
      "words[i] is \n",
      "i is 5\n",
      "words[i] is \n",
      "i is 4\n",
      "words[i] is John\n",
      "i is 3\n",
      "words[i] is Hello\n",
      "i is 2\n",
      "words[i] is \n",
      "i is 1\n",
      "words[i] is \n",
      "i is 0\n",
      "words[i] is \n",
      "['1']\n",
      "i is 0\n",
      "words[i] is 1\n",
      "ALL TEST CASES PASSED\n"
     ]
    }
   ],
   "source": [
    "\"\"\"\n",
    "RUN THIS CELL TO TEST YOUR SOLUTION\n",
    "\"\"\"\n",
    "\n",
    "from nose.tools import assert_equal\n",
    "\n",
    "class ReversalTest(object):\n",
    "    \n",
    "    def test(self,sol):\n",
    "        assert_equal(sol('    space before'),'before space')\n",
    "        assert_equal(sol('space after     '),'after space')\n",
    "        assert_equal(sol('   Hello John    how are you   '),'you are how John Hello')\n",
    "        assert_equal(sol('1'),'1')\n",
    "        print(\"ALL TEST CASES PASSED\")\n",
    "        \n",
    "# Run and test\n",
    "t = ReversalTest()\n",
    "t.test(rev_word)"
   ]
  },
  {
   "cell_type": "markdown",
   "metadata": {},
   "source": [
    "## Good Job!"
   ]
  }
 ],
 "metadata": {
  "kernelspec": {
   "display_name": "Python 3",
   "language": "python",
   "name": "python3"
  },
  "language_info": {
   "codemirror_mode": {
    "name": "ipython",
    "version": 3
   },
   "file_extension": ".py",
   "mimetype": "text/x-python",
   "name": "python",
   "nbconvert_exporter": "python",
   "pygments_lexer": "ipython3",
   "version": "3.8.5"
  }
 },
 "nbformat": 4,
 "nbformat_minor": 1
}
