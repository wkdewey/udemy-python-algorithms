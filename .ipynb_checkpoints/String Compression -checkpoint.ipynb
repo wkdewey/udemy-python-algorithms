{
 "cells": [
  {
   "cell_type": "markdown",
   "metadata": {},
   "source": [
    "# String Compression\n",
    "\n",
    "## Problem\n",
    "\n",
    "Given a string in the form 'AAAABBBBCCCCCDDEEEE' compress it to become 'A4B4C5D2E4'. For this problem, you can falsely \"compress\" strings of single or double letters. For instance, it is okay for 'AAB' to return 'A2B1' even though this technically takes more space. \n",
    "\n",
    "The function should also be case sensitive, so that a string 'AAAaaa' returns 'A3a3'."
   ]
  },
  {
   "cell_type": "markdown",
   "metadata": {},
   "source": [
    "## Solution\n",
    "Fill out your solution below:"
   ]
  },
  {
   "cell_type": "code",
   "execution_count": 17,
   "metadata": {},
   "outputs": [],
   "source": [
    "def compress(s):\n",
    "    if len(s) < 1:\n",
    "        return \"\"\n",
    "    i = 0\n",
    "    answer = []\n",
    "    last = s[i]\n",
    "    count = 0\n",
    "    while i < len(s):\n",
    "        char = s[i]\n",
    "        if char != last:\n",
    "            answer.append(last)\n",
    "            answer.append(str(count))\n",
    "            count = 1\n",
    "        else:\n",
    "            count += 1\n",
    "        last = char\n",
    "        print(last, count, i)\n",
    "        i+= 1\n",
    "    answer.append(last)\n",
    "    answer.append(str(count))\n",
    "    return (\"\").join(answer)\n",
    "        "
   ]
  },
  {
   "cell_type": "code",
   "execution_count": 18,
   "metadata": {},
   "outputs": [
    {
     "name": "stdout",
     "output_type": "stream",
     "text": [
      "A 1 0\n",
      "A 2 1\n",
      "A 3 2\n",
      "A 4 3\n",
      "A 5 4\n",
      "B 1 5\n",
      "B 2 6\n",
      "B 3 7\n",
      "B 4 8\n",
      "C 1 9\n",
      "C 2 10\n",
      "C 3 11\n",
      "C 4 12\n"
     ]
    },
    {
     "data": {
      "text/plain": [
       "'A5B4C4'"
      ]
     },
     "execution_count": 18,
     "metadata": {},
     "output_type": "execute_result"
    }
   ],
   "source": [
    "compress('AAAAABBBBCCCC')"
   ]
  },
  {
   "cell_type": "markdown",
   "metadata": {},
   "source": [
    "# Test Your Solution"
   ]
  },
  {
   "cell_type": "code",
   "execution_count": 19,
   "metadata": {},
   "outputs": [
    {
     "name": "stdout",
     "output_type": "stream",
     "text": [
      "A 1 0\n",
      "A 2 1\n",
      "B 1 2\n",
      "B 2 3\n",
      "C 1 4\n",
      "C 2 5\n",
      "A 1 0\n",
      "A 2 1\n",
      "A 3 2\n",
      "B 1 3\n",
      "C 1 4\n",
      "C 2 5\n",
      "D 1 6\n",
      "D 2 7\n",
      "D 3 8\n",
      "D 4 9\n",
      "D 5 10\n",
      "ALL TEST CASES PASSED\n"
     ]
    }
   ],
   "source": [
    "\"\"\"\n",
    "RUN THIS CELL TO TEST YOUR SOLUTION\n",
    "\"\"\"\n",
    "from nose.tools import assert_equal\n",
    "\n",
    "class TestCompress(object):\n",
    "\n",
    "    def test(self, sol):\n",
    "        assert_equal(sol(''), '')\n",
    "        assert_equal(sol('AABBCC'), 'A2B2C2')\n",
    "        assert_equal(sol('AAABCCDDDDD'), 'A3B1C2D5')\n",
    "        print('ALL TEST CASES PASSED')\n",
    "\n",
    "# Run Tests\n",
    "t = TestCompress()\n",
    "t.test(compress)"
   ]
  },
  {
   "cell_type": "markdown",
   "metadata": {},
   "source": [
    "## Good Job!"
   ]
  }
 ],
 "metadata": {
  "kernelspec": {
   "display_name": "Python 3",
   "language": "python",
   "name": "python3"
  },
  "language_info": {
   "codemirror_mode": {
    "name": "ipython",
    "version": 3
   },
   "file_extension": ".py",
   "mimetype": "text/x-python",
   "name": "python",
   "nbconvert_exporter": "python",
   "pygments_lexer": "ipython3",
   "version": "3.8.5"
  }
 },
 "nbformat": 4,
 "nbformat_minor": 1
}
